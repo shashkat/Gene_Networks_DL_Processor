{
 "cells": [
  {
   "cell_type": "code",
   "execution_count": 4,
   "metadata": {},
   "outputs": [],
   "source": [
    "x = {'A':1,'B':2}"
   ]
  },
  {
   "cell_type": "code",
   "execution_count": 14,
   "metadata": {},
   "outputs": [
    {
     "data": {
      "text/plain": [
       "[['A', 0, 3, 2, 7, 6],\n",
       " ['B', 1, 2, 2, 4],\n",
       " ['C', 2, 3, 0, 1, 7],\n",
       " ['D', 3, 3, 6, 4, 8],\n",
       " ['E', 4, 4, 1, 3, 6, 5],\n",
       " ['F', 5, 1, 4],\n",
       " ['G', 6, 3, 3, 4, 0],\n",
       " ['H', 7, 3, 0, 2, 8],\n",
       " ['I', 8, 2, 3, 7]]"
      ]
     },
     "execution_count": 14,
     "metadata": {},
     "output_type": "execute_result"
    }
   ],
   "source": [
    "nodes"
   ]
  },
  {
   "cell_type": "code",
   "execution_count": 6,
   "metadata": {},
   "outputs": [],
   "source": [
    "iter = 10 # no of topo files to generate\n",
    "import pandas as pd\n",
    "import random\n",
    "import numpy as np\n",
    "\n",
    "# ind = 0\n",
    "for j in range(iter):\n",
    "     # element of nodes has data in order node-index-number of connections\n",
    "     nodes = [['A',0,0],['B',1,0],['C',2,0],['D',3,0],['E',4,0],['F',5,0],['G',6,0],['H',7,0],['I',8,0],['J',9,0]]\n",
    "\n",
    "     # n = random.uniform(0,1)\n",
    "     # thr5 = 0.5079\n",
    "     # thr6 = 0.2539 + thr5\n",
    "     # thr7 = 0.1269 + thr6\n",
    "     # thr8 = 0.0634 + thr7\n",
    "     # thr9 = 0.0317 + thr8\n",
    "     # thr10 = 0.0158 + thr9\n",
    "     # if n > 0 and n < thr5: n = 5\n",
    "     # if n > thr5 and n < thr6: n = 6\n",
    "     # if n > thr6 and n < thr7: n = 7\n",
    "     # if n > thr7 and n < thr8: n = 8\n",
    "     # if n > thr8 and n < thr9: n = 9\n",
    "     # if n > thr9 and n < thr10: n = 10\n",
    "\n",
    "     n = random.choice([10])\n",
    "\n",
    "     nodes = nodes[:n]\n",
    "     for i in range (len(nodes)):\n",
    "          m = random.choice([1,2])\n",
    "          if m > nodes[i][2]: \n",
    "               for increment in range(m-nodes[i][2]):\n",
    "                    temp = list(nodes)\n",
    "                    temp.remove(nodes[i])\n",
    "                    for existing_node in nodes[i][3:]:\n",
    "                         temp.remove(nodes[existing_node])\n",
    "                    new_connected_node = random.choice(temp)\n",
    "                    new_node_index = new_connected_node[1]\n",
    "                    nodes[i][2] += 1\n",
    "                    nodes[new_node_index][2] += 1\n",
    "                    nodes[i].append(new_node_index)\n",
    "                    nodes[new_node_index].append(i)\n",
    "\n",
    "     # making topo file\n",
    "     \n",
    "     df = []\n",
    "     df.append(['Source','Target','Type'])\n",
    "     for i in range (len(nodes)):\n",
    "          for connections in range(nodes[i][2]):\n",
    "               df.append([nodes[i][0], nodes[nodes[i][3+connections]][0], 2])\n",
    "     \n",
    "     topo_name = 'TS{}.topo'\n",
    "     np.savetxt(topo_name.format(j), df, delimiter = '\\t', fmt = '% s')\n",
    "     # ind+=1"
   ]
  },
  {
   "cell_type": "code",
   "execution_count": 67,
   "metadata": {},
   "outputs": [
    {
     "data": {
      "text/plain": [
       "[['A', 0, 1, 4],\n",
       " ['B', 1, 2, 6, 2],\n",
       " ['C', 2, 2, 1, 3],\n",
       " ['D', 3, 2, 2, 5],\n",
       " ['E', 4, 3, 0, 6, 5],\n",
       " ['F', 5, 2, 4, 3],\n",
       " ['G', 6, 2, 1, 4]]"
      ]
     },
     "execution_count": 67,
     "metadata": {},
     "output_type": "execute_result"
    }
   ],
   "source": [
    "nodes"
   ]
  },
  {
   "cell_type": "code",
   "execution_count": 66,
   "metadata": {},
   "outputs": [
    {
     "data": {
      "text/plain": [
       "[['Source', 'Target', 'Type'],\n",
       " ['A', 'E', 2],\n",
       " ['B', 'G', 2],\n",
       " ['B', 'C', 2],\n",
       " ['C', 'B', 2],\n",
       " ['C', 'D', 2],\n",
       " ['D', 'C', 2],\n",
       " ['D', 'F', 2],\n",
       " ['E', 'A', 2],\n",
       " ['E', 'G', 2],\n",
       " ['E', 'F', 2],\n",
       " ['F', 'E', 2],\n",
       " ['F', 'D', 2],\n",
       " ['G', 'B', 2],\n",
       " ['G', 'E', 2]]"
      ]
     },
     "execution_count": 66,
     "metadata": {},
     "output_type": "execute_result"
    }
   ],
   "source": [
    "df"
   ]
  }
 ],
 "metadata": {
  "kernelspec": {
   "display_name": "Python 3",
   "language": "python",
   "name": "python3"
  },
  "language_info": {
   "codemirror_mode": {
    "name": "ipython",
    "version": 3
   },
   "file_extension": ".py",
   "mimetype": "text/x-python",
   "name": "python",
   "nbconvert_exporter": "python",
   "pygments_lexer": "ipython3",
   "version": "3.8.9"
  },
  "orig_nbformat": 4,
  "vscode": {
   "interpreter": {
    "hash": "5edc29c2ed010d6458d71a83433b383a96a8cbd3efe8531bc90c4b8a5b8bcec9"
   }
  }
 },
 "nbformat": 4,
 "nbformat_minor": 2
}
