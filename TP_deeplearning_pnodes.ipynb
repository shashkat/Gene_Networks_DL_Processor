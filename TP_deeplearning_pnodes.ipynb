{
  "nbformat": 4,
  "nbformat_minor": 0,
  "metadata": {
    "colab": {
      "name": "TP_deeplearning_pnodes.ipynb",
      "provenance": [],
      "collapsed_sections": [],
      "authorship_tag": "ABX9TyPXFaQt5bxbGvNZm3dJj0ci",
      "include_colab_link": true
    },
    "kernelspec": {
      "name": "python3",
      "display_name": "Python 3"
    },
    "language_info": {
      "name": "python"
    }
  },
  "cells": [
    {
      "cell_type": "markdown",
      "metadata": {
        "id": "view-in-github",
        "colab_type": "text"
      },
      "source": [
        "<a href=\"https://colab.research.google.com/github/shashkat/Gene_Networks_DL_Processor/blob/main/TP_deeplearning_pnodes.ipynb\" target=\"_parent\"><img src=\"https://colab.research.google.com/assets/colab-badge.svg\" alt=\"Open In Colab\"/></a>"
      ]
    },
    {
      "cell_type": "code",
      "execution_count": 1,
      "metadata": {
        "id": "mBZ5h8dB7AgL"
      },
      "outputs": [],
      "source": [
        "import tensorflow as tf\n",
        "from tensorflow import keras\n",
        "import matplotlib.pyplot as plt\n",
        "%matplotlib inline\n",
        "import numpy as np\n",
        "import pandas as pd"
      ]
    },
    {
      "cell_type": "code",
      "source": [
        "df_test = pd.read_csv(\"dataset_square_TP_26 - Sheet1.csv\")\n"
      ],
      "metadata": {
        "id": "kl4gd1t9qM3B"
      },
      "execution_count": 76,
      "outputs": []
    },
    {
      "cell_type": "code",
      "source": [
        "df_test.drop(['freq1','freq2','freq3','freq4','freq5','freq6','freq7','freq8','freq9','freq10'], axis = 1)"
      ],
      "metadata": {
        "id": "ACBfGYtwqOKH"
      },
      "execution_count": null,
      "outputs": []
    },
    {
      "cell_type": "code",
      "source": [
        "df_test = pd.read_csv(\"dataset_hexagon_TP_28 - Sheet1.csv\")\n",
        "\n",
        "# freq_total = []\n",
        "# for i in range(len(df_test)):\n",
        "#   freq_total.append(df_test['freq1'][i]+df_test['freq2'][i]+df_test['freq3'][i]+df_test['freq4'][i]+df_test['freq5'][i]+df_test['freq6'][i]+df_test['freq7'][i]+df_test['freq8'][i]+df_test['freq9'][i]+df_test['freq10'][i])\n",
        "# df_test['freq_total'] = freq_total\n",
        "\n",
        "for i in range (len(df_test)):\n",
        "  \n",
        "  # df_test['pedge'][i] = df_test['pedge'][i]/(max(df_test['pedge']))\n",
        "  if df_test[\"freq_total\"][i] >= 0 and df_test[\"freq_total\"][i] < 20: \n",
        "    df_test[\"freq_total\"][i] = 0\n",
        "  elif df_test[\"freq_total\"][i] >= 20 and df_test[\"freq_total\"][i] < 100:\n",
        "    df_test[\"freq_total\"][i] = 1\n",
        "  elif df_test[\"freq_total\"][i] >= 100 and df_test[\"freq_total\"][i] < 500:\n",
        "    df_test[\"freq_total\"][i] = 2\n",
        "  elif df_test[\"freq_total\"][i] >= 500 and df_test[\"freq_total\"][i] < 1000:\n",
        "    df_test[\"freq_total\"][i] = 3\n",
        "  elif df_test[\"freq_total\"][i] >= 1000 and df_test[\"freq_total\"][i] < 3000:\n",
        "    df_test[\"freq_total\"][i] = 4\n",
        "  elif df_test[\"freq_total\"][i] >= 3000:\n",
        "    df_test[\"freq_total\"][i] = 5\n",
        "\n",
        "# edge_total = []\n",
        "# for i in range(len(df_test)):\n",
        "#   edge_total.append(df_test['AB'][i]+df_test['BC'][i]+df_test['CD'][i]+df_test['AC'][i]+df_test['AD'][i])\n",
        "# df_test['edges'] = edge_total\n",
        "\n",
        "# df_test['nodes'] = 4\n",
        "# df_test = df_test.astype({'pedge00':float,'pedge11':float,'pnode':float,'edges':float,'nodes':float})\n",
        "\n",
        "# df_test['pedge00'] = df_test['pedge00']\n",
        "# df_test['pedge11'] = df_test['pedge11']\n",
        "# df_test['pnode'] = df_test['pnode']\n",
        "# # df_test['hnodes'] = df_test['hnodes']\n",
        "# # df_test['lnodes'] = df_test['lnodes']\n",
        "# df_test['edges'] = df_test['edges']\n",
        "# df_test['nodes'] = 4\n",
        "\n",
        "# for i in range(len(df_test)):\n",
        "#   df_test['pedge00'][i] = df_test['pedge00'][i]/float(max(df['pedge00']))\n",
        "#   df_test['pedge11'][i] = df_test['pedge11'][i]/float(max(df['pedge11']))\n",
        "#   df_test['pnode'][i] = df_test['pnode'][i]/float(max(df['pnode']))\n",
        "#   df_test['edges'][i] = df_test['edges'][i]/float(max(df['edges']))\n",
        "#   df_test['nodes'][i] = df_test['nodes'][i]/float(max(df['nodes']))\n",
        "\n",
        "y_test = df_test['freq_total']\n",
        "# X = df['pedge']\n",
        "X_test = df_test[{'nodes','edges','pedge00','pedge11','pnode'}]"
      ],
      "metadata": {
        "id": "aSaYNdv3_3Qb"
      },
      "execution_count": 102,
      "outputs": []
    },
    {
      "cell_type": "code",
      "source": [
        "pd.set_option('display.max_rows',1000)"
      ],
      "metadata": {
        "id": "N1maIEunpUfo"
      },
      "execution_count": 16,
      "outputs": []
    },
    {
      "cell_type": "code",
      "source": [
        "df_test = pd.read_csv(\"dataset_square_37 - Sheet1.csv\")\n",
        "\n",
        "# n = max(df['total_states'])\n",
        "for i in range (len(df_test)):\n",
        "  if df_test[\"freq_total\"][i] >= 0 and df_test[\"freq_total\"][i] < 10: \n",
        "    df_test[\"freq_total\"][i] = 0\n",
        "  elif df_test[\"freq_total\"][i] >= 10 and df_test[\"freq_total\"][i] < 100:\n",
        "    df_test[\"freq_total\"][i] = 1\n",
        "  elif df_test[\"freq_total\"][i] >= 100 and df_test[\"freq_total\"][i] < 500:\n",
        "    df_test[\"freq_total\"][i] = 2\n",
        "  elif df_test[\"freq_total\"][i] >= 500 and df_test[\"freq_total\"][i] < 1000:\n",
        "    df_test[\"freq_total\"][i] = 3\n",
        "  elif df_test[\"freq_total\"][i] >= 1000 and df_test[\"freq_total\"][i] < 3000:\n",
        "    df_test[\"freq_total\"][i] = 4\n",
        "  elif df_test[\"freq_total\"][i] >= 3000:\n",
        "    df_test[\"freq_total\"][i] = 5\n",
        "\n",
        "temp = np.array(df_test['total_states'])\n",
        "temp = temp/1024\n",
        "\n",
        "df_test['total_states2'] = temp\n",
        "y_test = df_test['freq_total']\n",
        "# X = df['pedge']\n",
        "X_test = df_test[{'nodes','edges','pedge00','pedge11','pnode','total_states2'}]"
      ],
      "metadata": {
        "id": "m79BvjrVKjgJ"
      },
      "execution_count": 99,
      "outputs": []
    },
    {
      "cell_type": "code",
      "source": [
        "X_test"
      ],
      "metadata": {
        "id": "joWrW4n90IJD"
      },
      "execution_count": null,
      "outputs": []
    },
    {
      "cell_type": "code",
      "source": [
        "df_test['total_states'][0]"
      ],
      "metadata": {
        "colab": {
          "base_uri": "https://localhost:8080/"
        },
        "id": "jx-mGxIby5Fm",
        "outputId": "9352bc30-1d2c-4765-d563-ab65422bc950"
      },
      "execution_count": 91,
      "outputs": [
        {
          "output_type": "execute_result",
          "data": {
            "text/plain": [
              "0"
            ]
          },
          "metadata": {},
          "execution_count": 91
        }
      ]
    },
    {
      "cell_type": "code",
      "source": [
        "df_test = pd.read_csv(\"dataset_square_37 - Sheet1.csv\")\n",
        "\n",
        "freq_total = []\n",
        "for i in range(len(df_test)):\n",
        "  freq_total.append(df_test['freq1'][i]+df_test['freq2'][i]+df_test['freq3'][i]+df_test['freq4'][i]+df_test['freq5'][i]+df_test['freq6'][i]+df_test['freq7'][i]+df_test['freq8'][i]+df_test['freq9'][i]+df_test['freq10'][i])\n",
        "df_test['freq_total'] = freq_total\n",
        "\n",
        "for i in range (len(df_test)):\n",
        "  \n",
        "  # df_test['pedge'][i] = df_test['pedge'][i]/(max(df_test['pedge']))\n",
        "  if df_test[\"freq_total\"][i] >= 0 and df_test[\"freq_total\"][i] < 10: \n",
        "    df_test[\"freq_total\"][i] = 0\n",
        "  elif df_test[\"freq_total\"][i] >= 10 and df_test[\"freq_total\"][i] < 100:\n",
        "    df_test[\"freq_total\"][i] = 1\n",
        "  elif df_test[\"freq_total\"][i] >= 100 and df_test[\"freq_total\"][i] < 500:\n",
        "    df_test[\"freq_total\"][i] = 2\n",
        "  elif df_test[\"freq_total\"][i] >= 500 and df_test[\"freq_total\"][i] < 1000:\n",
        "    df_test[\"freq_total\"][i] = 3\n",
        "  elif df_test[\"freq_total\"][i] >= 1000 and df_test[\"freq_total\"][i] < 3000:\n",
        "    df_test[\"freq_total\"][i] = 4\n",
        "  elif df_test[\"freq_total\"][i] >= 3000:\n",
        "    df_test[\"freq_total\"][i] = 5\n",
        "\n",
        "edge_total = []\n",
        "for i in range(len(df_test)):\n",
        "  edge_total.append(df_test['AB'][i]+df_test['BC'][i]+df_test['CD'][i]+df_test['AC'][i]+df_test['AD'][i]+df_test['BD'][i])\n",
        "df_test['edges'] = edge_total\n",
        "\n",
        "df_test['nodes'] = 4\n",
        "# df_test = df_test.astype({'pedge00':float,'pedge11':float,'pnode':float,'edges':float,'nodes':float})\n",
        "\n",
        "# df_test['pedge00'] = df_test['pedge00']\n",
        "# df_test['pedge11'] = df_test['pedge11']\n",
        "# df_test['pnode'] = df_test['pnode']\n",
        "# # df_test['hnodes'] = df_test['hnodes']\n",
        "# # df_test['lnodes'] = df_test['lnodes']\n",
        "# df_test['edges'] = df_test['edges']\n",
        "# df_test['nodes'] = 4\n",
        "\n",
        "# for i in range(len(df_test)):\n",
        "#   df_test['pedge00'][i] = df_test['pedge00'][i]/float(max(df['pedge00']))\n",
        "#   df_test['pedge11'][i] = df_test['pedge11'][i]/float(max(df['pedge11']))\n",
        "#   df_test['pnode'][i] = df_test['pnode'][i]/float(max(df['pnode']))\n",
        "#   df_test['edges'][i] = df_test['edges'][i]/float(max(df['edges']))\n",
        "#   df_test['nodes'][i] = df_test['nodes'][i]/float(max(df['nodes']))\n",
        "\n",
        "y_test = df_test['freq_total']\n",
        "# X = df['pedge']\n",
        "X_test = df_test[{'nodes','edges','pedge00','pedge11','pnode'}]"
      ],
      "metadata": {
        "id": "stxS5TVHtAhb"
      },
      "execution_count": 126,
      "outputs": []
    },
    {
      "cell_type": "code",
      "source": [
        "df = pd.read_csv(\"dataset_multinode_36 - Sheet1.csv\")\n",
        "\n",
        "# freq_total = []\n",
        "# for i in range(len(df)):\n",
        "#   freq_total.append(df['freq1'][i]+df['freq2'][i]+df['freq3'][i]+df['freq4'][i]+df['freq5'][i]+df['freq6'][i]+df['freq7'][i]+df['freq8'][i]+df['freq9'][i]+df['freq10'][i])\n",
        "# df['freq_total'] = freq_total\n",
        "\n",
        "# n = max(df['total_states'])\n",
        "for i in range (len(df)):\n",
        "  # df['total_states'][i] = df['total_states'][i]/\n",
        "  if df[\"freq_total\"][i] >= 0 and df[\"freq_total\"][i] < 10: \n",
        "    df[\"freq_total\"][i] = 0\n",
        "  elif df[\"freq_total\"][i] >= 10 and df[\"freq_total\"][i] < 100:\n",
        "    df[\"freq_total\"][i] = 1\n",
        "  elif df[\"freq_total\"][i] >= 100 and df[\"freq_total\"][i] < 500:\n",
        "    df[\"freq_total\"][i] = 2\n",
        "  elif df[\"freq_total\"][i] >= 500 and df[\"freq_total\"][i] < 1000:\n",
        "    df[\"freq_total\"][i] = 3\n",
        "  elif df[\"freq_total\"][i] >= 1000 and df[\"freq_total\"][i] < 3000:\n",
        "    df[\"freq_total\"][i] = 4\n",
        "  elif df[\"freq_total\"][i] >= 3000:\n",
        "    df[\"freq_total\"][i] = 5\n",
        "\n",
        "temp = np.array(df['total_states'])\n",
        "temp = temp/1024\n",
        "\n",
        "df['total_states2'] = temp\n",
        "y = df['freq_total']\n",
        "# X = df['pedge']\n",
        "X = df[{'nodes','edges','pedge00','pedge11','pnode','total_states2'}]\n",
        "y_train = y\n",
        "X_train = X"
      ],
      "metadata": {
        "id": "3tkauR3D-ow4"
      },
      "execution_count": 102,
      "outputs": []
    },
    {
      "cell_type": "code",
      "source": [
        "X_train['total_states2'][1500]"
      ],
      "metadata": {
        "colab": {
          "base_uri": "https://localhost:8080/"
        },
        "id": "66avXLESjvXI",
        "outputId": "4972754d-c7ca-41df-bb0d-60c714812923"
      },
      "execution_count": 107,
      "outputs": [
        {
          "output_type": "execute_result",
          "data": {
            "text/plain": [
              "0.5"
            ]
          },
          "metadata": {},
          "execution_count": 107
        }
      ]
    },
    {
      "cell_type": "code",
      "source": [
        "# split, not needed when supplying separate test set\n",
        "from sklearn.model_selection import train_test_split\n",
        "y_train, y_test, X_train, X_test = train_test_split(y, X, test_size = 0.2, random_state = 2, stratify = y)"
      ],
      "metadata": {
        "id": "ObuqoF-S_oMD"
      },
      "execution_count": 13,
      "outputs": []
    },
    {
      "cell_type": "code",
      "source": [
        "model = keras.Sequential([\n",
        "    keras.layers.Dense(5, input_shape=(6,), activation='relu'),\n",
        "    keras.layers.Dense(5, activation='relu'),\n",
        "    keras.layers.Dense(5, activation='relu'),\n",
        "    # keras.layers.Dense(5, activation='relu'),\n",
        "    # keras.layers.Dense(2, activation='relu'),\n",
        "    # keras.layers.Dense(1, activation='relu'),\n",
        "    keras.layers.Dense(6, activation='sigmoid')\n",
        "])\n",
        "\n",
        "model.compile(optimizer='adam',\n",
        "              loss='sparse_categorical_crossentropy',\n",
        "              metrics=['accuracy'])\n",
        "\n",
        "model.fit(X_train, y_train, epochs=200)"
      ],
      "metadata": {
        "id": "6IZbo36j_tBo"
      },
      "execution_count": null,
      "outputs": []
    },
    {
      "cell_type": "code",
      "source": [
        "model.evaluate(X_test,y_test)"
      ],
      "metadata": {
        "colab": {
          "base_uri": "https://localhost:8080/"
        },
        "id": "35KMSjA4_-bc",
        "outputId": "b6162b03-8359-44cc-8969-da52773b5f27"
      },
      "execution_count": 132,
      "outputs": [
        {
          "output_type": "stream",
          "name": "stdout",
          "text": [
            "21/21 [==============================] - 0s 4ms/step - loss: 0.5132 - accuracy: 0.8247\n"
          ]
        },
        {
          "output_type": "execute_result",
          "data": {
            "text/plain": [
              "[0.5131990909576416, 0.8246951103210449]"
            ]
          },
          "metadata": {},
          "execution_count": 132
        }
      ]
    },
    {
      "cell_type": "code",
      "source": [
        "temp = df"
      ],
      "metadata": {
        "id": "_30fCP0Lwr4Z"
      },
      "execution_count": null,
      "outputs": []
    },
    {
      "cell_type": "code",
      "source": [
        "temp = [0,3,0,6]"
      ],
      "metadata": {
        "id": "rjE7Gi7Ib26j"
      },
      "execution_count": null,
      "outputs": []
    },
    {
      "cell_type": "code",
      "source": [
        "X_test_np = np.array(X_test)\n",
        "prediction = []\n",
        "for i in range(len(X_test)):\n",
        "  prediction.append(np.argmax(model.predict(X_test_np[[i]])))"
      ],
      "metadata": {
        "id": "Vo1ae3XfrhZE"
      },
      "execution_count": 67,
      "outputs": []
    },
    {
      "cell_type": "code",
      "source": [
        "X_test['prediction'] = prediction"
      ],
      "metadata": {
        "colab": {
          "base_uri": "https://localhost:8080/"
        },
        "id": "rKiQ6XYNtGCB",
        "outputId": "21b98eda-7246-4c26-f3d4-1fc5321bf3e7"
      },
      "execution_count": 68,
      "outputs": [
        {
          "output_type": "stream",
          "name": "stderr",
          "text": [
            "/usr/local/lib/python3.7/dist-packages/ipykernel_launcher.py:1: SettingWithCopyWarning: \n",
            "A value is trying to be set on a copy of a slice from a DataFrame.\n",
            "Try using .loc[row_indexer,col_indexer] = value instead\n",
            "\n",
            "See the caveats in the documentation: https://pandas.pydata.org/pandas-docs/stable/user_guide/indexing.html#returning-a-view-versus-a-copy\n",
            "  \"\"\"Entry point for launching an IPython kernel.\n"
          ]
        }
      ]
    },
    {
      "cell_type": "code",
      "source": [
        "X_test['freq_total'] = y_test"
      ],
      "metadata": {
        "id": "n5LOQ2ngtZYZ"
      },
      "execution_count": 69,
      "outputs": []
    },
    {
      "cell_type": "code",
      "source": [
        "pd.set_option('display.max_rows',1000)"
      ],
      "metadata": {
        "id": "eyRRDOtU4IaK"
      },
      "execution_count": 71,
      "outputs": []
    },
    {
      "cell_type": "code",
      "source": [
        "X_test"
      ],
      "metadata": {
        "id": "YduuLwt1tji9"
      },
      "execution_count": null,
      "outputs": []
    },
    {
      "cell_type": "code",
      "source": [
        "model.predict(X_test[[0]])"
      ],
      "metadata": {
        "id": "GR8blj7vqnX_"
      },
      "execution_count": null,
      "outputs": []
    },
    {
      "cell_type": "code",
      "source": [
        "no_zeros = 0\n",
        "for i in range(int(len(X_test)/4)):\n",
        "  \n",
        "  print(np.argmax(model.predict(X_test[[i]])),' ',y_test[i], np.argmax(model.predict(X_test[[i]]))-y_test[i])\n",
        "  if np.argmax(model.predict(X_test[[i]]))-y_test[i] == 0: no_zeros += 1\n",
        "print ('out of ',len(X_test)/4,', no of zeros is', no_zeros)"
      ],
      "metadata": {
        "id": "beOO1nVzwe01"
      },
      "execution_count": null,
      "outputs": []
    }
  ]
}